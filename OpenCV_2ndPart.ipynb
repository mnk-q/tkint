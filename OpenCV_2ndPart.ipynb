{
 "cells": [
  {
   "cell_type": "code",
   "execution_count": 16,
   "id": "be71e00d",
   "metadata": {},
   "outputs": [
    {
     "name": "stdout",
     "output_type": "stream",
     "text": [
      "(100, 100, 3)\n",
      "(531, 413, 3)\n"
     ]
    },
    {
     "data": {
      "text/plain": [
       "-1"
      ]
     },
     "execution_count": 16,
     "metadata": {},
     "output_type": "execute_result"
    }
   ],
   "source": [
    "#!pip install opencv-python\n",
    "\n",
    "import cv2\n",
    "\n",
    "# Read the input image\n",
    "img = cv2.imread('pic1.jpg')\n",
    "\n",
    "# Convert into grayscale\n",
    "gray = cv2.cvtColor(img, cv2.COLOR_BGR2GRAY)\n",
    "\n",
    "# Load the cascade\n",
    "face_cascade = cv2.CascadeClassifier('haarcascade_frontalface_alt2.xml')\n",
    "\n",
    "# Detect faces\n",
    "detected_faces = face_cascade.detectMultiScale(gray, 1.1, 4)\n",
    "\n",
    "# Draw rectangle around the faces and crop the faces\n",
    "for (x, y, w, h) in detected_faces:\n",
    "\tcv2.rectangle(img, (x, y), (x+w, y+h), (0, 0, 255), 2)\n",
    "\tdetected_faces = img[y:y + h, x:x + w]\n",
    "\n",
    "# Display the output\n",
    "cv2.imwrite('Detected.jpg', img)\n",
    "cv2.imshow('img', img)\n",
    "cv2.waitKey()\n",
    "\n",
    "cv2.imshow(\"Detected_face\",detected_faces)\n",
    "cv2.imwrite('Detected_face.jpg', detected_faces)\n",
    "cv2.waitKey()\n",
    "\n",
    "img=cv2.imread(\"Detected_face.jpg\")\n",
    "\n",
    "print(img.shape)\n",
    "\n",
    "width,height=413,531\n",
    "\n",
    "cropped_img=cv2.resize(img,(width,height))\n",
    "\n",
    "print(cropped_img.shape)\n",
    "\n",
    "cv2.imshow(\"Cropped_Image\",cropped_img)\n",
    "cv2.imwrite(\"All_PassportSize_Photo\\Cropped_image.jpg\",cropped_img)\n",
    "cv2.waitKey()"
   ]
  },
  {
   "cell_type": "code",
   "execution_count": null,
   "id": "7696b321",
   "metadata": {},
   "outputs": [],
   "source": [
    "\n"
   ]
  },
  {
   "cell_type": "code",
   "execution_count": null,
   "id": "e59bb79f",
   "metadata": {},
   "outputs": [],
   "source": []
  },
  {
   "cell_type": "code",
   "execution_count": null,
   "id": "25f3db8e",
   "metadata": {},
   "outputs": [],
   "source": []
  },
  {
   "cell_type": "code",
   "execution_count": null,
   "id": "d4aeb0ed",
   "metadata": {},
   "outputs": [],
   "source": []
  }
 ],
 "metadata": {
  "kernelspec": {
   "display_name": "Python 3.9.12 64-bit",
   "language": "python",
   "name": "python3"
  },
  "language_info": {
   "codemirror_mode": {
    "name": "ipython",
    "version": 3
   },
   "file_extension": ".py",
   "mimetype": "text/x-python",
   "name": "python",
   "nbconvert_exporter": "python",
   "pygments_lexer": "ipython3",
   "version": "3.9.12"
  },
  "vscode": {
   "interpreter": {
    "hash": "11938c6bc6919ae2720b4d5011047913343b08a43b18698fd82dedb0d4417594"
   }
  }
 },
 "nbformat": 4,
 "nbformat_minor": 5
}
